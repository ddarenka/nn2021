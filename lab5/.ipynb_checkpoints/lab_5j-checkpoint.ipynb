{
 "cells": [
  {
   "cell_type": "markdown",
   "metadata": {},
   "source": [
    "## Lab #5"
   ]
  },
  {
   "cell_type": "code",
   "execution_count": 1,
   "metadata": {},
   "outputs": [],
   "source": [
    "import os\n",
    "import pandas as pd\n",
    "import matplotlib.pyplot as plt\n",
    "import numpy as np\n",
    "\n",
    "%matplotlib inline"
   ]
  },
  {
   "cell_type": "code",
   "execution_count": 14,
   "metadata": {},
   "outputs": [],
   "source": [
    "train_path = 'data/3_food/train'\n",
    "test_path = 'data/3_food/train'"
   ]
  },
  {
   "cell_type": "code",
   "execution_count": 15,
   "metadata": {},
   "outputs": [],
   "source": [
    "IMAGE_SIZE = (224, 224)"
   ]
  },
  {
   "cell_type": "code",
   "execution_count": 16,
   "metadata": {},
   "outputs": [
    {
     "data": {
      "text/plain": [
       "['breakfast_burrito', 'foie_gras', 'oysters']"
      ]
     },
     "execution_count": 16,
     "metadata": {},
     "output_type": "execute_result"
    }
   ],
   "source": [
    "img_classes = os.listdir(train_path)\n",
    "img_classes"
   ]
  },
  {
   "cell_type": "code",
   "execution_count": 17,
   "metadata": {},
   "outputs": [],
   "source": [
    "import tensorflow as tf\n",
    "from tensorflow.keras.preprocessing.image import ImageDataGenerator"
   ]
  },
  {
   "cell_type": "code",
   "execution_count": 18,
   "metadata": {},
   "outputs": [],
   "source": [
    "seed = 42\n",
    "\n",
    "# Set the seed\n",
    "np.random.seed(seed)\n",
    "tf.random.set_seed(seed)"
   ]
  },
  {
   "cell_type": "markdown",
   "metadata": {},
   "source": [
    "### Read data"
   ]
  },
  {
   "cell_type": "code",
   "execution_count": 19,
   "metadata": {},
   "outputs": [],
   "source": [
    "train_datagen_augmented = ImageDataGenerator(rescale=1/255.,\n",
    "                                             rotation_range=20, # rotate the image slightly between 0 and 20 degrees (note: this is an int not a float)\n",
    "                                             shear_range=0.2, # shear the image\n",
    "                                             zoom_range=0.2, # zoom into the image\n",
    "                                             width_shift_range=0.2, # shift the image width ways\n",
    "                                             height_shift_range=0.2, # shift the image height ways\n",
    "                                             horizontal_flip=True) # flip the image on the horizontal axis\n",
    "\n",
    "test_datagen = ImageDataGenerator(rescale=1./255)"
   ]
  },
  {
   "cell_type": "code",
   "execution_count": 20,
   "metadata": {},
   "outputs": [
    {
     "name": "stdout",
     "output_type": "stream",
     "text": [
      "Found 225 images belonging to 3 classes.\n",
      "Found 225 images belonging to 3 classes.\n"
     ]
    }
   ],
   "source": [
    "train_data_augmented = train_datagen_augmented.flow_from_directory(test_path,\n",
    "                                                                   target_size=IMAGE_SIZE,\n",
    "                                                                   batch_size=32,\n",
    "                                                                   class_mode='categorical')\n",
    "\n",
    "test_data = test_datagen.flow_from_directory(train_path,\n",
    "                                             target_size=IMAGE_SIZE,\n",
    "                                             batch_size=32,\n",
    "                                             class_mode='categorical')"
   ]
  },
  {
   "cell_type": "code",
   "execution_count": 21,
   "metadata": {},
   "outputs": [],
   "source": [
    "# Plot the validation and training data separately\n",
    "def plot_loss_curves(history):\n",
    "  \"\"\"\n",
    "  Returns separate loss curves for training and validation metrics.\n",
    "  \"\"\" \n",
    "  loss = history.history['loss']\n",
    "  val_loss = history.history['val_loss']\n",
    "\n",
    "  accuracy = history.history['accuracy']\n",
    "  val_accuracy = history.history['val_accuracy']\n",
    "\n",
    "  epochs = range(len(history.history['loss']))\n",
    "\n",
    "  # Plot loss\n",
    "  plt.plot(epochs, loss, label='training_loss')\n",
    "  plt.plot(epochs, val_loss, label='val_loss')\n",
    "  plt.title('Loss')\n",
    "  plt.xlabel('Epochs')\n",
    "  plt.legend()\n",
    "\n",
    "  # Plot accuracy\n",
    "  plt.figure()\n",
    "  plt.plot(epochs, accuracy, label='training_accuracy')\n",
    "  plt.plot(epochs, val_accuracy, label='val_accuracy')\n",
    "  plt.title('Accuracy')\n",
    "  plt.xlabel('Epochs')\n",
    "  plt.legend();"
   ]
  },
  {
   "cell_type": "code",
   "execution_count": 27,
   "metadata": {
    "scrolled": true
   },
   "outputs": [],
   "source": [
    "import tensorflow_hub as hub\n",
    "import datetime"
   ]
  },
  {
   "cell_type": "code",
   "execution_count": 28,
   "metadata": {},
   "outputs": [],
   "source": [
    "def create_tensorboard_callback(dir_name, experiment_name):\n",
    "  log_dir = dir_name + \"/\" + experiment_name + \"/\" + datetime.datetime.now().strftime(\"%Y%m%d-%H%M%S\")\n",
    "  tensorboard_callback = tf.keras.callbacks.TensorBoard(\n",
    "      log_dir=log_dir\n",
    "  )\n",
    "  print(f\"Saving TensorBoard log files to: {log_dir}\")\n",
    "  return tensorboard_callback"
   ]
  },
  {
   "cell_type": "markdown",
   "metadata": {},
   "source": [
    "### Compare NN "
   ]
  },
  {
   "cell_type": "markdown",
   "metadata": {},
   "source": [
    "#### CNN (optimizer Adam) "
   ]
  },
  {
   "cell_type": "code",
   "execution_count": 29,
   "metadata": {},
   "outputs": [],
   "source": [
    "tf.random.set_seed(seed)\n",
    "\n",
    "cnn_model = tf.keras.Sequential([\n",
    "    tf.keras.layers.Conv2D(filters=32,\n",
    "                           kernel_size=3,\n",
    "                           activation='relu',\n",
    "                           input_shape=(224, 224, 3)),\n",
    "    tf.keras.layers.MaxPool2D(pool_size=2),\n",
    "    tf.keras.layers.Conv2D(filters=64,\n",
    "                           kernel_size=3,\n",
    "                           activation='relu'),\n",
    "    tf.keras.layers.MaxPool2D(pool_size=2),\n",
    "    tf.keras.layers.Conv2D(filters=128,\n",
    "                           kernel_size=3,\n",
    "                           activation='relu'),\n",
    "    tf.keras.layers.MaxPool2D(pool_size=2),\n",
    "    tf.keras.layers.Conv2D(filters=256,\n",
    "                           kernel_size=3,\n",
    "                           activation='relu'),\n",
    "    tf.keras.layers.MaxPool2D(pool_size=2),\n",
    "    tf.keras.layers.Flatten(),\n",
    "    tf.keras.layers.Dense(3,\n",
    "                          activation='softmax')\n",
    "])\n"
   ]
  },
  {
   "cell_type": "code",
   "execution_count": 30,
   "metadata": {},
   "outputs": [
    {
     "name": "stdout",
     "output_type": "stream",
     "text": [
      "Saving TensorBoard log files to: tensorflow_hub/cnn_model/20211125-132209\n",
      "Epoch 1/40\n",
      "8/8 [==============================] - 17s 2s/step - loss: 1.1972 - accuracy: 0.3422 - val_loss: 1.1069 - val_accuracy: 0.3333\n",
      "Epoch 2/40\n",
      "8/8 [==============================] - 17s 2s/step - loss: 1.1073 - accuracy: 0.3333 - val_loss: 1.0969 - val_accuracy: 0.3333\n",
      "Epoch 3/40\n",
      "8/8 [==============================] - 19s 2s/step - loss: 1.0923 - accuracy: 0.3556 - val_loss: 1.1015 - val_accuracy: 0.3333\n",
      "Epoch 4/40\n",
      "8/8 [==============================] - 25s 3s/step - loss: 1.1003 - accuracy: 0.3333 - val_loss: 1.0995 - val_accuracy: 0.3333\n",
      "Epoch 5/40\n",
      "8/8 [==============================] - 30s 4s/step - loss: 1.1350 - accuracy: 0.3333 - val_loss: 1.0949 - val_accuracy: 0.3333\n",
      "Epoch 6/40\n",
      "8/8 [==============================] - 34s 4s/step - loss: 1.0921 - accuracy: 0.4044 - val_loss: 1.0836 - val_accuracy: 0.3644\n",
      "Epoch 7/40\n",
      "8/8 [==============================] - 30s 4s/step - loss: 1.0882 - accuracy: 0.3467 - val_loss: 1.0564 - val_accuracy: 0.4533\n",
      "Epoch 8/40\n",
      "8/8 [==============================] - 22s 3s/step - loss: 1.0719 - accuracy: 0.3956 - val_loss: 1.0202 - val_accuracy: 0.4844\n",
      "Epoch 9/40\n",
      "8/8 [==============================] - 23s 3s/step - loss: 1.0485 - accuracy: 0.4267 - val_loss: 0.9685 - val_accuracy: 0.4978\n",
      "Epoch 10/40\n",
      "8/8 [==============================] - 24s 3s/step - loss: 1.0492 - accuracy: 0.4133 - val_loss: 0.9804 - val_accuracy: 0.4711\n",
      "Epoch 11/40\n",
      "8/8 [==============================] - 22s 3s/step - loss: 1.0221 - accuracy: 0.4756 - val_loss: 0.9875 - val_accuracy: 0.4800\n",
      "Epoch 12/40\n",
      "8/8 [==============================] - 22s 3s/step - loss: 1.0051 - accuracy: 0.4933 - val_loss: 1.2149 - val_accuracy: 0.4178\n",
      "Epoch 13/40\n",
      "8/8 [==============================] - 22s 3s/step - loss: 1.0782 - accuracy: 0.4400 - val_loss: 1.0623 - val_accuracy: 0.4178\n",
      "Epoch 14/40\n",
      "8/8 [==============================] - 22s 3s/step - loss: 1.0972 - accuracy: 0.4356 - val_loss: 0.9793 - val_accuracy: 0.4667\n",
      "Epoch 15/40\n",
      "8/8 [==============================] - 25s 4s/step - loss: 1.0067 - accuracy: 0.5156 - val_loss: 0.9686 - val_accuracy: 0.5911\n",
      "Epoch 16/40\n",
      "8/8 [==============================] - 31s 4s/step - loss: 0.9857 - accuracy: 0.5689 - val_loss: 0.9948 - val_accuracy: 0.5333\n",
      "Epoch 17/40\n",
      "8/8 [==============================] - 26s 3s/step - loss: 0.9540 - accuracy: 0.5689 - val_loss: 0.9111 - val_accuracy: 0.5778\n",
      "Epoch 18/40\n",
      "8/8 [==============================] - 31s 4s/step - loss: 1.0170 - accuracy: 0.5067 - val_loss: 0.9527 - val_accuracy: 0.5467\n",
      "Epoch 19/40\n",
      "8/8 [==============================] - 31s 4s/step - loss: 0.9958 - accuracy: 0.5067 - val_loss: 1.1023 - val_accuracy: 0.4267\n",
      "Epoch 20/40\n",
      "8/8 [==============================] - 30s 4s/step - loss: 1.0397 - accuracy: 0.4178 - val_loss: 1.0737 - val_accuracy: 0.4178\n",
      "Epoch 21/40\n",
      "8/8 [==============================] - 29s 4s/step - loss: 1.0851 - accuracy: 0.3778 - val_loss: 1.0657 - val_accuracy: 0.4444\n",
      "Epoch 22/40\n",
      "8/8 [==============================] - 25s 3s/step - loss: 1.0725 - accuracy: 0.4133 - val_loss: 1.0304 - val_accuracy: 0.4444\n",
      "Epoch 23/40\n",
      "8/8 [==============================] - 22s 3s/step - loss: 1.0368 - accuracy: 0.4311 - val_loss: 0.9781 - val_accuracy: 0.5289\n",
      "Epoch 24/40\n",
      "8/8 [==============================] - 22s 3s/step - loss: 1.0109 - accuracy: 0.4978 - val_loss: 0.9874 - val_accuracy: 0.5289\n",
      "Epoch 25/40\n",
      "8/8 [==============================] - 22s 3s/step - loss: 0.9979 - accuracy: 0.4667 - val_loss: 0.9550 - val_accuracy: 0.5600\n",
      "Epoch 26/40\n",
      "8/8 [==============================] - 22s 3s/step - loss: 1.0279 - accuracy: 0.5022 - val_loss: 0.9852 - val_accuracy: 0.4889\n",
      "Epoch 27/40\n",
      "8/8 [==============================] - 23s 3s/step - loss: 0.9824 - accuracy: 0.5333 - val_loss: 1.1488 - val_accuracy: 0.4933\n",
      "Epoch 28/40\n",
      "8/8 [==============================] - 23s 3s/step - loss: 1.0224 - accuracy: 0.4844 - val_loss: 0.9927 - val_accuracy: 0.5422\n",
      "Epoch 29/40\n",
      "8/8 [==============================] - 22s 3s/step - loss: 1.0173 - accuracy: 0.5289 - val_loss: 0.9736 - val_accuracy: 0.5467\n",
      "Epoch 30/40\n",
      "8/8 [==============================] - 21s 3s/step - loss: 1.0029 - accuracy: 0.4844 - val_loss: 0.9758 - val_accuracy: 0.4933\n",
      "Epoch 31/40\n",
      "8/8 [==============================] - 22s 3s/step - loss: 0.9775 - accuracy: 0.4978 - val_loss: 0.9588 - val_accuracy: 0.5378\n",
      "Epoch 32/40\n",
      "8/8 [==============================] - 22s 3s/step - loss: 0.9579 - accuracy: 0.5111 - val_loss: 0.9710 - val_accuracy: 0.5289\n",
      "Epoch 33/40\n",
      "8/8 [==============================] - 22s 3s/step - loss: 0.9693 - accuracy: 0.5244 - val_loss: 0.9341 - val_accuracy: 0.5200\n",
      "Epoch 34/40\n",
      "8/8 [==============================] - 22s 3s/step - loss: 0.9429 - accuracy: 0.5289 - val_loss: 0.9287 - val_accuracy: 0.5644\n",
      "Epoch 35/40\n",
      "8/8 [==============================] - 21s 3s/step - loss: 0.9187 - accuracy: 0.5644 - val_loss: 0.9045 - val_accuracy: 0.5511\n",
      "Epoch 36/40\n",
      "8/8 [==============================] - 22s 3s/step - loss: 0.9534 - accuracy: 0.5200 - val_loss: 0.9401 - val_accuracy: 0.5200\n",
      "Epoch 37/40\n",
      "8/8 [==============================] - 22s 3s/step - loss: 0.9706 - accuracy: 0.5022 - val_loss: 0.8825 - val_accuracy: 0.6178\n",
      "Epoch 38/40\n",
      "8/8 [==============================] - 22s 3s/step - loss: 0.9441 - accuracy: 0.5244 - val_loss: 0.9216 - val_accuracy: 0.5200\n",
      "Epoch 39/40\n",
      "8/8 [==============================] - 22s 3s/step - loss: 0.9532 - accuracy: 0.4933 - val_loss: 0.8924 - val_accuracy: 0.5556\n",
      "Epoch 40/40\n",
      "8/8 [==============================] - 22s 3s/step - loss: 0.9823 - accuracy: 0.4978 - val_loss: 0.8979 - val_accuracy: 0.5378\n"
     ]
    }
   ],
   "source": [
    "tf.random.set_seed(seed)\n",
    "\n",
    "cnn_model.compile(optimizer=tf.keras.optimizers.Adam(),\n",
    "                  loss='categorical_crossentropy',\n",
    "                  metrics=['accuracy'])\n",
    "\n",
    "cnn_history = cnn_model.fit(train_data_augmented,\n",
    "                            epochs=40,\n",
    "                            steps_per_epoch=len(train_data_augmented),\n",
    "                            validation_data=test_data,\n",
    "                            validation_steps=len(test_data), \n",
    "                            callbacks=[create_tensorboard_callback(dir_name=\"tensorflow_hub\", \n",
    "                                                                   experiment_name=\"cnn_model\")])"
   ]
  },
  {
   "cell_type": "code",
   "execution_count": 31,
   "metadata": {},
   "outputs": [
    {
     "data": {
      "image/png": "[encoded data removed]",
      "text/plain": [
       "<Figure size 432x288 with 1 Axes>"
      ]
     },
     "metadata": {
      "needs_background": "light"
     },
     "output_type": "display_data"
    },
    {
     "data": {
      "image/png": "[encoded data removed]",
      "text/plain": [
       "<Figure size 432x288 with 1 Axes>"
      ]
     },
     "metadata": {
      "needs_background": "light"
     },
     "output_type": "display_data"
    }
   ],
   "source": [
    "plot_loss_curves(cnn_history)"
   ]
  },
  {
   "cell_type": "code",
   "execution_count": 32,
   "metadata": {},
   "outputs": [
    {
     "name": "stdout",
     "output_type": "stream",
     "text": [
      "Model: \"sequential\"\n",
      "_________________________________________________________________\n",
      "Layer (type)                 Output Shape              Param #   \n",
      "=================================================================\n",
      "conv2d (Conv2D)              (None, 222, 222, 32)      896       \n",
      "_________________________________________________________________\n",
      "max_pooling2d (MaxPooling2D) (None, 111, 111, 32)      0         \n",
      "_________________________________________________________________\n",
      "conv2d_1 (Conv2D)            (None, 109, 109, 64)      18496     \n",
      "_________________________________________________________________\n",
      "max_pooling2d_1 (MaxPooling2 (None, 54, 54, 64)        0         \n",
      "_________________________________________________________________\n",
      "conv2d_2 (Conv2D)            (None, 52, 52, 128)       73856     \n",
      "_________________________________________________________________\n",
      "max_pooling2d_2 (MaxPooling2 (None, 26, 26, 128)       0         \n",
      "_________________________________________________________________\n",
      "conv2d_3 (Conv2D)            (None, 24, 24, 256)       295168    \n",
      "_________________________________________________________________\n",
      "max_pooling2d_3 (MaxPooling2 (None, 12, 12, 256)       0         \n",
      "_________________________________________________________________\n",
      "flatten (Flatten)            (None, 36864)             0         \n",
      "_________________________________________________________________\n",
      "dense (Dense)                (None, 3)                 110595    \n",
      "=================================================================\n",
      "Total params: 499,011\n",
      "Trainable params: 499,011\n",
      "Non-trainable params: 0\n",
      "_________________________________________________________________\n"
     ]
    }
   ],
   "source": [
    "cnn_model.summary()"
   ]
  },
  {
   "cell_type": "markdown",
   "metadata": {},
   "source": [
    "#### Resnet (optimizer Adam)"
   ]
  },
  {
   "cell_type": "code",
   "execution_count": 33,
   "metadata": {},
   "outputs": [],
   "source": [
    "resnet_url = 'https://tfhub.dev/google/imagenet/resnet_v2_50/feature_vector/5'"
   ]
  },
  {
   "cell_type": "code",
   "execution_count": 34,
   "metadata": {},
   "outputs": [],
   "source": [
    "def create_model(model_url, num_classes=10, input_shape=None):\n",
    "    \n",
    "    model = tf.keras.Sequential([\n",
    "        hub.KerasLayer(model_url,\n",
    "                       trainable=False,\n",
    "                       input_shape=input_shape),\n",
    "        tf.keras.layers.Dense(num_classes, activation='softmax')\n",
    "    ])\n",
    "\n",
    "    return model"
   ]
  },
  {
   "cell_type": "code",
   "execution_count": 35,
   "metadata": {},
   "outputs": [],
   "source": [
    "resnet_model = create_model(resnet_url, num_classes=len(img_classes), input_shape=IMAGE_SIZE+(3,))"
   ]
  },
  {
   "cell_type": "code",
   "execution_count": 36,
   "metadata": {},
   "outputs": [
    {
     "name": "stdout",
     "output_type": "stream",
     "text": [
      "Saving TensorBoard log files to: tensorflow_hub/resnet_v2_50/20211125-133829\n",
      "Epoch 1/10\n",
      "8/8 [==============================] - 59s 7s/step - loss: 1.1768 - accuracy: 0.4578 - val_loss: 0.8780 - val_accuracy: 0.6222\n",
      "Epoch 2/10\n",
      "8/8 [==============================] - 42s 6s/step - loss: 0.7834 - accuracy: 0.6622 - val_loss: 0.5032 - val_accuracy: 0.8133\n",
      "Epoch 3/10\n",
      "8/8 [==============================] - 48s 6s/step - loss: 0.5924 - accuracy: 0.7956 - val_loss: 0.4187 - val_accuracy: 0.8444\n",
      "Epoch 4/10\n",
      "8/8 [==============================] - 50s 7s/step - loss: 0.4294 - accuracy: 0.8178 - val_loss: 0.3244 - val_accuracy: 0.8933\n",
      "Epoch 5/10\n",
      "8/8 [==============================] - 32s 4s/step - loss: 0.3644 - accuracy: 0.8711 - val_loss: 0.2449 - val_accuracy: 0.9200\n",
      "Epoch 6/10\n",
      "8/8 [==============================] - 27s 4s/step - loss: 0.2697 - accuracy: 0.9111 - val_loss: 0.2114 - val_accuracy: 0.9244\n",
      "Epoch 7/10\n",
      "8/8 [==============================] - 29s 4s/step - loss: 0.2498 - accuracy: 0.9111 - val_loss: 0.1894 - val_accuracy: 0.9333\n",
      "Epoch 8/10\n",
      "8/8 [==============================] - 32s 4s/step - loss: 0.2773 - accuracy: 0.8933 - val_loss: 0.1747 - val_accuracy: 0.9422\n",
      "Epoch 9/10\n",
      "8/8 [==============================] - 33s 4s/step - loss: 0.2035 - accuracy: 0.9378 - val_loss: 0.1583 - val_accuracy: 0.9422\n",
      "Epoch 10/10\n",
      "8/8 [==============================] - 30s 4s/step - loss: 0.1878 - accuracy: 0.9467 - val_loss: 0.1524 - val_accuracy: 0.9556\n"
     ]
    }
   ],
   "source": [
    "tf.random.set_seed(seed)\n",
    "\n",
    "# Compile\n",
    "resnet_model.compile(loss='categorical_crossentropy',\n",
    "                     optimizer=tf.keras.optimizers.Adam(),\n",
    "                     metrics=['accuracy'])\n",
    "\n",
    "resnet_history = resnet_model.fit(train_data_augmented,\n",
    "                                  epochs=10,\n",
    "                                  steps_per_epoch=len(train_data_augmented),\n",
    "                                  validation_data=test_data,\n",
    "                                  validation_steps=len(test_data), \n",
    "                                  callbacks=[create_tensorboard_callback(dir_name=\"tensorflow_hub\", \n",
    "                                                                   experiment_name=\"resnet_v2_50\")])"
   ]
  },
  {
   "cell_type": "code",
   "execution_count": 37,
   "metadata": {},
   "outputs": [
    {
     "data": {
      "image/png": "[encoded data removed]",
      "text/plain": [
       "<Figure size 432x288 with 1 Axes>"
      ]
     },
     "metadata": {
      "needs_background": "light"
     },
     "output_type": "display_data"
    },
    {
     "data": {
      "image/png": "[encoded data removed]",
      "text/plain": [
       "<Figure size 432x288 with 1 Axes>"
      ]
     },
     "metadata": {
      "needs_background": "light"
     },
     "output_type": "display_data"
    }
   ],
   "source": [
    "plot_loss_curves(resnet_history)"
   ]
  },
  {
   "cell_type": "code",
   "execution_count": 38,
   "metadata": {},
   "outputs": [
    {
     "name": "stdout",
     "output_type": "stream",
     "text": [
      "Model: \"sequential_1\"\n",
      "_________________________________________________________________\n",
      "Layer (type)                 Output Shape              Param #   \n",
      "=================================================================\n",
      "keras_layer (KerasLayer)     (None, 2048)              23564800  \n",
      "_________________________________________________________________\n",
      "dense_1 (Dense)              (None, 3)                 6147      \n",
      "=================================================================\n",
      "Total params: 23,570,947\n",
      "Trainable params: 6,147\n",
      "Non-trainable params: 23,564,800\n",
      "_________________________________________________________________\n"
     ]
    }
   ],
   "source": [
    "resnet_model.summary()"
   ]
  },
  {
   "cell_type": "markdown",
   "metadata": {},
   "source": [
    "#### EfficientNet (optimizer Adam) "
   ]
  },
  {
   "cell_type": "code",
   "execution_count": 39,
   "metadata": {},
   "outputs": [],
   "source": [
    "efficientnet_url = 'https://tfhub.dev/tensorflow/efficientnet/b0/feature-vector/1'"
   ]
  },
  {
   "cell_type": "code",
   "execution_count": 40,
   "metadata": {},
   "outputs": [],
   "source": [
    "efficientnet_model = create_model(efficientnet_url, num_classes=len(img_classes), input_shape=IMAGE_SIZE+(3,))"
   ]
  },
  {
   "cell_type": "code",
   "execution_count": 41,
   "metadata": {},
   "outputs": [
    {
     "name": "stdout",
     "output_type": "stream",
     "text": [
      "Saving TensorBoard log files to: tensorflow_hub/efficientnet/20211125-134530\n",
      "Epoch 1/10\n",
      "8/8 [==============================] - 58s 6s/step - loss: 1.0185 - accuracy: 0.5244 - val_loss: 0.7725 - val_accuracy: 0.7378\n",
      "Epoch 2/10\n",
      "8/8 [==============================] - 19s 3s/step - loss: 0.7463 - accuracy: 0.6978 - val_loss: 0.5854 - val_accuracy: 0.8044\n",
      "Epoch 3/10\n",
      "8/8 [==============================] - 23s 3s/step - loss: 0.5942 - accuracy: 0.7822 - val_loss: 0.4725 - val_accuracy: 0.8756\n",
      "Epoch 4/10\n",
      "8/8 [==============================] - 26s 3s/step - loss: 0.4896 - accuracy: 0.8756 - val_loss: 0.3982 - val_accuracy: 0.9200\n",
      "Epoch 5/10\n",
      "8/8 [==============================] - 21s 3s/step - loss: 0.4066 - accuracy: 0.9200 - val_loss: 0.3496 - val_accuracy: 0.9333\n",
      "Epoch 6/10\n",
      "8/8 [==============================] - 22s 3s/step - loss: 0.3818 - accuracy: 0.9244 - val_loss: 0.3137 - val_accuracy: 0.9467\n",
      "Epoch 7/10\n",
      "8/8 [==============================] - 23s 3s/step - loss: 0.3465 - accuracy: 0.9289 - val_loss: 0.2845 - val_accuracy: 0.9511\n",
      "Epoch 8/10\n",
      "8/8 [==============================] - 23s 3s/step - loss: 0.3298 - accuracy: 0.9244 - val_loss: 0.2637 - val_accuracy: 0.9467\n",
      "Epoch 9/10\n",
      "8/8 [==============================] - 22s 3s/step - loss: 0.2839 - accuracy: 0.9422 - val_loss: 0.2444 - val_accuracy: 0.9511\n",
      "Epoch 10/10\n",
      "8/8 [==============================] - 23s 3s/step - loss: 0.2933 - accuracy: 0.9333 - val_loss: 0.2280 - val_accuracy: 0.9600\n"
     ]
    }
   ],
   "source": [
    "tf.random.set_seed(seed)\n",
    "\n",
    "# Compile\n",
    "efficientnet_model.compile(loss='categorical_crossentropy',\n",
    "                           optimizer=tf.keras.optimizers.Adam(),\n",
    "                           metrics=['accuracy'])\n",
    "\n",
    "efficientnet_history = efficientnet_model.fit(train_data_augmented,\n",
    "                                              epochs=10,\n",
    "                                              steps_per_epoch=len(train_data_augmented),\n",
    "                                              validation_data=test_data,\n",
    "                                              validation_steps=len(test_data), \n",
    "                                              callbacks=[create_tensorboard_callback(dir_name=\"tensorflow_hub\", \n",
    "                                                                                     experiment_name=\"efficientnet\")])"
   ]
  },
  {
   "cell_type": "code",
   "execution_count": 42,
   "metadata": {},
   "outputs": [
    {
     "data": {
      "image/png": "[encoded data removed]",
      "text/plain": [
       "<Figure size 432x288 with 1 Axes>"
      ]
     },
     "metadata": {
      "needs_background": "light"
     },
     "output_type": "display_data"
    },
    {
     "data": {
      "image/png": "[encoded data removed]",
      "text/plain": [
       "<Figure size 432x288 with 1 Axes>"
      ]
     },
     "metadata": {
      "needs_background": "light"
     },
     "output_type": "display_data"
    }
   ],
   "source": [
    "plot_loss_curves(efficientnet_history)"
   ]
  },
  {
   "cell_type": "code",
   "execution_count": 43,
   "metadata": {},
   "outputs": [
    {
     "name": "stdout",
     "output_type": "stream",
     "text": [
      "Model: \"sequential_2\"\n",
      "_________________________________________________________________\n",
      "Layer (type)                 Output Shape              Param #   \n",
      "=================================================================\n",
      "keras_layer_1 (KerasLayer)   (None, 1280)              4049564   \n",
      "_________________________________________________________________\n",
      "dense_2 (Dense)              (None, 3)                 3843      \n",
      "=================================================================\n",
      "Total params: 4,053,407\n",
      "Trainable params: 3,843\n",
      "Non-trainable params: 4,049,564\n",
      "_________________________________________________________________\n"
     ]
    }
   ],
   "source": [
    "efficientnet_model.summary()"
   ]
  },
  {
   "cell_type": "markdown",
   "metadata": {},
   "source": [
    "#### Resnet (optimizer SGD)"
   ]
  },
  {
   "cell_type": "code",
   "execution_count": 44,
   "metadata": {},
   "outputs": [
    {
     "name": "stdout",
     "output_type": "stream",
     "text": [
      "Saving TensorBoard log files to: tensorflow_hub/resnet_v2_50_sgd/20211125-134953\n",
      "Epoch 1/5\n",
      "8/8 [==============================] - 55s 7s/step - loss: 0.2230 - accuracy: 0.9067 - val_loss: 0.1427 - val_accuracy: 0.9511\n",
      "Epoch 2/5\n",
      "8/8 [==============================] - 38s 5s/step - loss: 0.1811 - accuracy: 0.9467 - val_loss: 0.1255 - val_accuracy: 0.9689\n",
      "Epoch 3/5\n",
      "8/8 [==============================] - 36s 5s/step - loss: 0.1550 - accuracy: 0.9600 - val_loss: 0.1153 - val_accuracy: 0.9600\n",
      "Epoch 4/5\n",
      "8/8 [==============================] - 37s 5s/step - loss: 0.1604 - accuracy: 0.9511 - val_loss: 0.1166 - val_accuracy: 0.9644\n",
      "Epoch 5/5\n",
      "8/8 [==============================] - 38s 5s/step - loss: 0.1433 - accuracy: 0.9556 - val_loss: 0.1030 - val_accuracy: 0.9733\n"
     ]
    }
   ],
   "source": [
    "tf.random.set_seed(seed)\n",
    "\n",
    "# Compile\n",
    "resnet_model.compile(loss='categorical_crossentropy',\n",
    "                     optimizer=tf.keras.optimizers.SGD(),\n",
    "                     metrics=['accuracy'])\n",
    "\n",
    "resnet_sgd_history = resnet_model.fit(train_data_augmented,\n",
    "                                  epochs=5,\n",
    "                                  steps_per_epoch=len(train_data_augmented),\n",
    "                                  validation_data=test_data,\n",
    "                                  validation_steps=len(test_data), \n",
    "                                  callbacks=[create_tensorboard_callback(dir_name=\"tensorflow_hub\", \n",
    "                                                                   experiment_name=\"resnet_v2_50_sgd\")])"
   ]
  },
  {
   "cell_type": "markdown",
   "metadata": {},
   "source": [
    "#### EfficientNet (optimizer SGD) "
   ]
  },
  {
   "cell_type": "code",
   "execution_count": 45,
   "metadata": {},
   "outputs": [
    {
     "name": "stdout",
     "output_type": "stream",
     "text": [
      "Saving TensorBoard log files to: tensorflow_hub/efficientnet_sgd/20211125-135317\n",
      "Epoch 1/5\n",
      "8/8 [==============================] - 65s 8s/step - loss: 0.2759 - accuracy: 0.9378 - val_loss: 0.2213 - val_accuracy: 0.9600\n",
      "Epoch 2/5\n",
      "8/8 [==============================] - 23s 3s/step - loss: 0.2655 - accuracy: 0.9378 - val_loss: 0.2215 - val_accuracy: 0.9511\n",
      "Epoch 3/5\n",
      "8/8 [==============================] - 20s 3s/step - loss: 0.2578 - accuracy: 0.9511 - val_loss: 0.2092 - val_accuracy: 0.9600\n",
      "Epoch 4/5\n",
      "8/8 [==============================] - 21s 3s/step - loss: 0.2445 - accuracy: 0.9511 - val_loss: 0.2047 - val_accuracy: 0.9600\n",
      "Epoch 5/5\n",
      "8/8 [==============================] - 20s 3s/step - loss: 0.2464 - accuracy: 0.9378 - val_loss: 0.1993 - val_accuracy: 0.9600\n"
     ]
    }
   ],
   "source": [
    "tf.random.set_seed(seed)\n",
    "\n",
    "# Compile\n",
    "efficientnet_model.compile(loss='categorical_crossentropy',\n",
    "                           optimizer=tf.keras.optimizers.SGD(),\n",
    "                           metrics=['accuracy'])\n",
    "\n",
    "efficientnet_sgd_history = efficientnet_model.fit(train_data_augmented,\n",
    "                                              epochs=5,\n",
    "                                              steps_per_epoch=len(train_data_augmented),\n",
    "                                              validation_data=test_data,\n",
    "                                              validation_steps=len(test_data), \n",
    "                                              callbacks=[create_tensorboard_callback(dir_name=\"tensorflow_hub\", \n",
    "                                                                                     experiment_name=\"efficientnet_sgd\")])"
   ]
  },
  {
   "cell_type": "code",
   "execution_count": 46,
   "metadata": {},
   "outputs": [],
   "source": [
    "# Load the TensorBoard notebook extension\n",
    "%load_ext tensorboard"
   ]
  },
  {
   "cell_type": "code",
   "execution_count": 47,
   "metadata": {},
   "outputs": [],
   "source": [
    "# Clear any logs from previous runs\n",
    "# rm -rf ./tensorflow_hub/"
   ]
  },
  {
   "cell_type": "code",
   "execution_count": 48,
   "metadata": {},
   "outputs": [
    {
     "data": {
      "text/plain": [
       "ERROR: Timed out waiting for TensorBoard to start. It may still be running as pid 4320."
      ]
     },
     "metadata": {},
     "output_type": "display_data"
    }
   ],
   "source": [
    "%tensorboard --logdir ./tensorflow_hub/"
   ]
  },
  {
   "cell_type": "code",
   "execution_count": 49,
   "metadata": {},
   "outputs": [],
   "source": [
    "from IPython.display import SVG"
   ]
  },
  {
   "cell_type": "code",
   "execution_count": 50,
   "metadata": {},
   "outputs": [],
   "source": [
    "svg_image_dir = './graphs'"
   ]
  },
  {
   "cell_type": "code",
   "execution_count": 51,
   "metadata": {},
   "outputs": [],
   "source": [
    "svg_plots = ['epoch_accuracy.svg', 'epoch_loss.svg', 'evaluation_loss_vs_iterations.svg', 'evaluation_accuracy_vs_iterations.svg']"
   ]
  },
  {
   "cell_type": "code",
   "execution_count": 52,
   "metadata": {},
   "outputs": [
    {
     "ename": "NameError",
     "evalue": "name 'size' is not defined",
     "output_type": "error",
     "traceback": [
      "\u001b[1;31m---------------------------------------------------------------------------\u001b[0m",
      "\u001b[1;31mNameError\u001b[0m                                 Traceback (most recent call last)",
      "\u001b[1;32m<ipython-input-52-58fd32d9e827>\u001b[0m in \u001b[0;36m<module>\u001b[1;34m\u001b[0m\n\u001b[1;32m----> 1\u001b[1;33m \u001b[0mfig\u001b[0m\u001b[1;33m,\u001b[0m \u001b[0max\u001b[0m \u001b[1;33m=\u001b[0m \u001b[0mplt\u001b[0m\u001b[1;33m.\u001b[0m\u001b[0msubplots\u001b[0m\u001b[1;33m(\u001b[0m\u001b[0msize\u001b[0m\u001b[1;33m(\u001b[0m\u001b[0msvg_plots\u001b[0m\u001b[1;33m)\u001b[0m\u001b[1;33m,\u001b[0m \u001b[1;36m1\u001b[0m\u001b[1;33m,\u001b[0m \u001b[0mfigsize\u001b[0m\u001b[1;33m=\u001b[0m\u001b[1;33m(\u001b[0m\u001b[1;36m5\u001b[0m\u001b[1;33m,\u001b[0m \u001b[1;36m15\u001b[0m\u001b[1;33m)\u001b[0m\u001b[1;33m)\u001b[0m\u001b[1;33m\u001b[0m\u001b[1;33m\u001b[0m\u001b[0m\n\u001b[0m\u001b[0;32m      2\u001b[0m \u001b[1;33m\u001b[0m\u001b[0m\n\u001b[0;32m      3\u001b[0m \u001b[1;32mfor\u001b[0m \u001b[0mi\u001b[0m\u001b[1;33m,\u001b[0m \u001b[0mplot_name\u001b[0m \u001b[1;32min\u001b[0m \u001b[0menumerate\u001b[0m\u001b[1;33m(\u001b[0m\u001b[0msvg_plots\u001b[0m\u001b[1;33m)\u001b[0m\u001b[1;33m:\u001b[0m\u001b[1;33m\u001b[0m\u001b[1;33m\u001b[0m\u001b[0m\n\u001b[0;32m      4\u001b[0m     \u001b[0mimg_path\u001b[0m \u001b[1;33m=\u001b[0m \u001b[0mos\u001b[0m\u001b[1;33m.\u001b[0m\u001b[0mpath\u001b[0m\u001b[1;33m.\u001b[0m\u001b[0mjoin\u001b[0m\u001b[1;33m(\u001b[0m\u001b[0msvg_image_dir\u001b[0m\u001b[1;33m,\u001b[0m \u001b[0mplot_name\u001b[0m\u001b[1;33m)\u001b[0m\u001b[1;33m\u001b[0m\u001b[1;33m\u001b[0m\u001b[0m\n\u001b[0;32m      5\u001b[0m     \u001b[0max\u001b[0m\u001b[1;33m[\u001b[0m\u001b[0mi\u001b[0m\u001b[1;33m]\u001b[0m \u001b[1;33m=\u001b[0m \u001b[0mSVG\u001b[0m\u001b[1;33m(\u001b[0m\u001b[0mimg_path\u001b[0m\u001b[1;33m)\u001b[0m\u001b[1;33m\u001b[0m\u001b[1;33m\u001b[0m\u001b[0m\n",
      "\u001b[1;31mNameError\u001b[0m: name 'size' is not defined"
     ]
    }
   ],
   "source": [
    "fig, ax = plt.subplots(size(svg_plots), 1, figsize=(5, 15))\n",
    "\n",
    "for i, plot_name in enumerate(svg_plots):\n",
    "    img_path = os.path.join(svg_image_dir, plot_name)\n",
    "    ax[i] = SVG(img_path)"
   ]
  },
  {
   "cell_type": "code",
   "execution_count": null,
   "metadata": {},
   "outputs": [],
   "source": []
  },
  {
   "cell_type": "code",
   "execution_count": null,
   "metadata": {},
   "outputs": [],
   "source": [
    "for i, plot_name in enumerate(svg_plots):\n",
    "    img_path = os.path.join(svg_image_dir, plot_name)\n",
    "    SVG(img_path)"
   ]
  },
  {
   "cell_type": "code",
   "execution_count": null,
   "metadata": {},
   "outputs": [],
   "source": []
  },
  {
   "cell_type": "code",
   "execution_count": null,
   "metadata": {},
   "outputs": [],
   "source": [
    "SVG(svg_image_dir + str('/epoch_accuracy.svg'))"
   ]
  },
  {
   "cell_type": "code",
   "execution_count": null,
   "metadata": {},
   "outputs": [],
   "source": []
  },
  {
   "cell_type": "code",
   "execution_count": null,
   "metadata": {},
   "outputs": [],
   "source": []
  },
  {
   "cell_type": "code",
   "execution_count": null,
   "metadata": {},
   "outputs": [],
   "source": []
  },
  {
   "cell_type": "code",
   "execution_count": null,
   "metadata": {},
   "outputs": [],
   "source": []
  },
  {
   "cell_type": "code",
   "execution_count": null,
   "metadata": {},
   "outputs": [],
   "source": []
  },
  {
   "cell_type": "code",
   "execution_count": null,
   "metadata": {},
   "outputs": [],
   "source": []
  },
  {
   "cell_type": "code",
   "execution_count": null,
   "metadata": {},
   "outputs": [],
   "source": []
  },
  {
   "cell_type": "code",
   "execution_count": null,
   "metadata": {},
   "outputs": [],
   "source": []
  },
  {
   "cell_type": "code",
   "execution_count": null,
   "metadata": {},
   "outputs": [],
   "source": []
  },
  {
   "cell_type": "code",
   "execution_count": null,
   "metadata": {},
   "outputs": [],
   "source": []
  },
  {
   "cell_type": "code",
   "execution_count": null,
   "metadata": {},
   "outputs": [],
   "source": []
  },
  {
   "cell_type": "code",
   "execution_count": null,
   "metadata": {},
   "outputs": [],
   "source": []
  },
  {
   "cell_type": "code",
   "execution_count": null,
   "metadata": {},
   "outputs": [],
   "source": []
  },
  {
   "cell_type": "code",
   "execution_count": null,
   "metadata": {},
   "outputs": [],
   "source": []
  },
  {
   "cell_type": "code",
   "execution_count": null,
   "metadata": {},
   "outputs": [],
   "source": []
  }
 ],
 "metadata": {
  "kernelspec": {
   "display_name": "Python 3 (ipykernel)",
   "language": "python",
   "name": "python3"
  },
  "language_info": {
   "codemirror_mode": {
    "name": "ipython",
    "version": 3
   },
   "file_extension": ".py",
   "mimetype": "text/x-python",
   "name": "python",
   "nbconvert_exporter": "python",
   "pygments_lexer": "ipython3",
   "version": "3.8.5"
  }
 },
 "nbformat": 4,
 "nbformat_minor": 2
}
