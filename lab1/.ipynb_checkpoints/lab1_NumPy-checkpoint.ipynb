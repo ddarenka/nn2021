{
 "cells": [
  {
   "cell_type": "code",
   "execution_count": 1,
   "metadata": {},
   "outputs": [],
   "source": [
    "import numpy as np"
   ]
  },
  {
   "cell_type": "markdown",
   "metadata": {},
   "source": [
    "### CRUD-operations"
   ]
  },
  {
   "cell_type": "markdown",
   "metadata": {},
   "source": [
    "#### Create:"
   ]
  },
  {
   "cell_type": "code",
   "execution_count": 2,
   "metadata": {
    "scrolled": true
   },
   "outputs": [
    {
     "name": "stdout",
     "output_type": "stream",
     "text": [
      "Random scalar: \n",
      " 16\n",
      "\n",
      "Created matrix: \n",
      " [[3 7 4]\n",
      " [6 9 2]\n",
      " [6 7 4]]\n",
      "\n",
      " Created vector: \n",
      " [10 14 18]\n"
     ]
    }
   ],
   "source": [
    "np.random.seed(42)\n",
    "\n",
    "scal = np.random.randint(10, 20)\n",
    "mat = np.random.randint(10, size=(3, 3))\n",
    "vec = np.arange(10, 20, 4)\n",
    "\n",
    "print('Random scalar: \\n', scal)\n",
    "print('\\nCreated matrix: \\n', mat)\n",
    "print('\\n Created vector: \\n', vec)"
   ]
  },
  {
   "cell_type": "markdown",
   "metadata": {},
   "source": [
    "#### Read:"
   ]
  },
  {
   "cell_type": "code",
   "execution_count": 3,
   "metadata": {},
   "outputs": [
    {
     "name": "stdout",
     "output_type": "stream",
     "text": [
      "Read scalar from matrix: 9\n",
      "\n",
      "Read horizontal vector (row): [6 9 2]\n",
      "\n",
      "Read vertical vector (column): [7 9 7]\n"
     ]
    }
   ],
   "source": [
    "print('Read scalar from matrix:', mat[1][1])\n",
    "print('\\nRead horizontal vector (row):', mat[1, :])\n",
    "print('\\nRead vertical vector (column):', mat[:, 1])"
   ]
  },
  {
   "cell_type": "markdown",
   "metadata": {},
   "source": [
    "#### Update:"
   ]
  },
  {
   "cell_type": "code",
   "execution_count": 4,
   "metadata": {},
   "outputs": [
    {
     "name": "stdout",
     "output_type": "stream",
     "text": [
      "Matrix updated with scalar:\n",
      " [[16  7  4]\n",
      " [ 6  9  2]\n",
      " [ 6  7  4]]\n",
      "\n",
      "Matrix updated with vector:\n",
      " [[16 10  4]\n",
      " [ 6 14  2]\n",
      " [ 6 18  4]]\n"
     ]
    }
   ],
   "source": [
    "mat[0][0] = scal\n",
    "print('Matrix updated with scalar:\\n', mat)\n",
    "\n",
    "mat[:, 1] = vec\n",
    "print('\\nMatrix updated with vector:\\n', mat)"
   ]
  },
  {
   "cell_type": "markdown",
   "metadata": {},
   "source": [
    "#### Delete:"
   ]
  },
  {
   "cell_type": "code",
   "execution_count": 5,
   "metadata": {},
   "outputs": [
    {
     "name": "stdout",
     "output_type": "stream",
     "text": [
      "Vector after deleting an element:\n",
      " [10 18]\n",
      "\n",
      "Matrix after deleting a row:\n",
      " [[16 10  4]\n",
      " [ 6 18  4]]\n",
      "\n",
      "Matrix after deleting a column:\n",
      " [[10  4]\n",
      " [18  4]]\n"
     ]
    }
   ],
   "source": [
    "vec = np.delete(vec, 1)\n",
    "print('Vector after deleting an element:\\n', vec)\n",
    "\n",
    "mat = np.delete(mat, 1, 0)\n",
    "print('\\nMatrix after deleting a row:\\n', mat)\n",
    "\n",
    "mat = np.delete(mat, 0, 1)\n",
    "print('\\nMatrix after deleting a column:\\n', mat)"
   ]
  }
 ],
 "metadata": {
  "kernelspec": {
   "display_name": "Python 3",
   "language": "python",
   "name": "python3"
  },
  "language_info": {
   "codemirror_mode": {
    "name": "ipython",
    "version": 3
   },
   "file_extension": ".py",
   "mimetype": "text/x-python",
   "name": "python",
   "nbconvert_exporter": "python",
   "pygments_lexer": "ipython3",
   "version": "3.8.5"
  }
 },
 "nbformat": 4,
 "nbformat_minor": 4
}
