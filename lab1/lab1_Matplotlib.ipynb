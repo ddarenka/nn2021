{
 "cells": [
  {
   "cell_type": "code",
   "execution_count": 1,
   "metadata": {},
   "outputs": [],
   "source": [
    "import numpy as np"
   ]
  },
  {
   "cell_type": "code",
   "execution_count": 2,
   "metadata": {},
   "outputs": [],
   "source": [
    "x = [3, 7, 9, 11, 14, 15, 19]\n",
    "y = [0.1, 2.6, 7, 5.5, 8, 4, 11]\n",
    "\n",
    "x = np.array(x).reshape((-1, 1))\n",
    "Y = np.array(y)"
   ]
  },
  {
   "cell_type": "code",
   "execution_count": 3,
   "metadata": {},
   "outputs": [
    {
     "data": {
      "text/plain": [
       "0.6978067537448582"
      ]
     },
     "execution_count": 3,
     "metadata": {},
     "output_type": "execute_result"
    }
   ],
   "source": [
    "from sklearn.linear_model import LinearRegression\n",
    "\n",
    "model = LinearRegression().fit(x, y)\n",
    "model.score(x, Y)"
   ]
  },
  {
   "cell_type": "code",
   "execution_count": 4,
   "metadata": {},
   "outputs": [
    {
     "name": "stdout",
     "output_type": "stream",
     "text": [
      "intercept: -0.8178512396694213\n",
      "slope: [0.5631405]\n"
     ]
    }
   ],
   "source": [
    "print('intercept:', model.intercept_)\n",
    "print('slope:', model.coef_)"
   ]
  },
  {
   "cell_type": "code",
   "execution_count": 5,
   "metadata": {
    "scrolled": true
   },
   "outputs": [
    {
     "data": {
      "text/plain": [
       "array([[0.87157025],\n",
       "       [3.12413223],\n",
       "       [4.25041322],\n",
       "       [5.37669421],\n",
       "       [7.0661157 ],\n",
       "       [7.6292562 ],\n",
       "       [9.88181818]])"
      ]
     },
     "execution_count": 5,
     "metadata": {},
     "output_type": "execute_result"
    }
   ],
   "source": [
    "Y_pred = model.coef_ * x + model.intercept_\n",
    "Y_pred"
   ]
  },
  {
   "cell_type": "code",
   "execution_count": 6,
   "metadata": {},
   "outputs": [
    {
     "data": {
      "image/png": "[encoded data removed]",
      "text/plain": [
       "<Figure size 432x288 with 1 Axes>"
      ]
     },
     "metadata": {
      "needs_background": "light"
     },
     "output_type": "display_data"
    }
   ],
   "source": [
    "import matplotlib.pyplot as plt\n",
    "%matplotlib inline\n",
    "\n",
    "plt.scatter(x,Y)\n",
    "plt.plot(x, Y_pred, color='red')\n",
    "plt.title('Linear Regression Line')\n",
    "plt.ylabel(\"Y\")\n",
    "plt.xlabel(\"x\")\n",
    "plt.show()"
   ]
  },
  {
   "cell_type": "code",
   "execution_count": 7,
   "metadata": {},
   "outputs": [
    {
     "name": "stdout",
     "output_type": "stream",
     "text": [
      "MSE= [0.08505, 0.03924, 1.08003, 0.00217, 0.12459, 1.88164, 0.17862]\n",
      "MAE= [0.11022, 0.07488, 0.3928, 0.01762, 0.13341, 0.51847, 0.15974]\n"
     ]
    }
   ],
   "source": [
    "mse = []\n",
    "mae = []\n",
    "for y, y_pred in zip(Y,Y_pred):\n",
    "    mse.append(round( 1/len(Y) * (float(y_pred) - y)**2, 5))\n",
    "    mae.append(round( abs(1/len(Y) * (float(y_pred) - y)), 5))\n",
    "    # mae = mean_absolute_error(Y,Y_pred)\n",
    "    \n",
    "print('MSE=', mse)\n",
    "print('MAE=', mae)"
   ]
  },
  {
   "cell_type": "code",
   "execution_count": 8,
   "metadata": {},
   "outputs": [],
   "source": [
    "import pandas as pd\n",
    "\n",
    "total_df = pd.DataFrame(zip(x.ravel(), Y, Y_pred.ravel(), mae, mse),\n",
    "               columns =['X','Y', 'Y_hat', 'mAE', 'mSE'])"
   ]
  },
  {
   "cell_type": "code",
   "execution_count": 9,
   "metadata": {
    "scrolled": true
   },
   "outputs": [
    {
     "data": {
      "text/html": [
       "<div>\n",
       "<style scoped>\n",
       "    .dataframe tbody tr th:only-of-type {\n",
       "        vertical-align: middle;\n",
       "    }\n",
       "\n",
       "    .dataframe tbody tr th {\n",
       "        vertical-align: top;\n",
       "    }\n",
       "\n",
       "    .dataframe thead th {\n",
       "        text-align: right;\n",
       "    }\n",
       "</style>\n",
       "<table border=\"1\" class=\"dataframe\">\n",
       "  <thead>\n",
       "    <tr style=\"text-align: right;\">\n",
       "      <th></th>\n",
       "      <th>X</th>\n",
       "      <th>Y</th>\n",
       "      <th>Y_hat</th>\n",
       "      <th>mAE</th>\n",
       "      <th>mSE</th>\n",
       "    </tr>\n",
       "  </thead>\n",
       "  <tbody>\n",
       "    <tr>\n",
       "      <th>0</th>\n",
       "      <td>3</td>\n",
       "      <td>0.1</td>\n",
       "      <td>0.871570</td>\n",
       "      <td>0.11022</td>\n",
       "      <td>0.08505</td>\n",
       "    </tr>\n",
       "    <tr>\n",
       "      <th>1</th>\n",
       "      <td>7</td>\n",
       "      <td>2.6</td>\n",
       "      <td>3.124132</td>\n",
       "      <td>0.07488</td>\n",
       "      <td>0.03924</td>\n",
       "    </tr>\n",
       "    <tr>\n",
       "      <th>2</th>\n",
       "      <td>9</td>\n",
       "      <td>7.0</td>\n",
       "      <td>4.250413</td>\n",
       "      <td>0.39280</td>\n",
       "      <td>1.08003</td>\n",
       "    </tr>\n",
       "    <tr>\n",
       "      <th>3</th>\n",
       "      <td>11</td>\n",
       "      <td>5.5</td>\n",
       "      <td>5.376694</td>\n",
       "      <td>0.01762</td>\n",
       "      <td>0.00217</td>\n",
       "    </tr>\n",
       "    <tr>\n",
       "      <th>4</th>\n",
       "      <td>14</td>\n",
       "      <td>8.0</td>\n",
       "      <td>7.066116</td>\n",
       "      <td>0.13341</td>\n",
       "      <td>0.12459</td>\n",
       "    </tr>\n",
       "    <tr>\n",
       "      <th>5</th>\n",
       "      <td>15</td>\n",
       "      <td>4.0</td>\n",
       "      <td>7.629256</td>\n",
       "      <td>0.51847</td>\n",
       "      <td>1.88164</td>\n",
       "    </tr>\n",
       "    <tr>\n",
       "      <th>6</th>\n",
       "      <td>19</td>\n",
       "      <td>11.0</td>\n",
       "      <td>9.881818</td>\n",
       "      <td>0.15974</td>\n",
       "      <td>0.17862</td>\n",
       "    </tr>\n",
       "  </tbody>\n",
       "</table>\n",
       "</div>"
      ],
      "text/plain": [
       "    X     Y     Y_hat      mAE      mSE\n",
       "0   3   0.1  0.871570  0.11022  0.08505\n",
       "1   7   2.6  3.124132  0.07488  0.03924\n",
       "2   9   7.0  4.250413  0.39280  1.08003\n",
       "3  11   5.5  5.376694  0.01762  0.00217\n",
       "4  14   8.0  7.066116  0.13341  0.12459\n",
       "5  15   4.0  7.629256  0.51847  1.88164\n",
       "6  19  11.0  9.881818  0.15974  0.17862"
      ]
     },
     "execution_count": 9,
     "metadata": {},
     "output_type": "execute_result"
    }
   ],
   "source": [
    "total_df"
   ]
  },
  {
   "cell_type": "code",
   "execution_count": 10,
   "metadata": {},
   "outputs": [],
   "source": [
    "total_df.to_csv('csv_data/task3_results.csv', \n",
    "                sep=';', decimal=',', index=False)"
   ]
  }
 ],
 "metadata": {
  "kernelspec": {
   "display_name": "Python 3",
   "language": "python",
   "name": "python3"
  },
  "language_info": {
   "codemirror_mode": {
    "name": "ipython",
    "version": 3
   },
   "file_extension": ".py",
   "mimetype": "text/x-python",
   "name": "python",
   "nbconvert_exporter": "python",
   "pygments_lexer": "ipython3",
   "version": "3.8.5"
  }
 },
 "nbformat": 4,
 "nbformat_minor": 4
}
