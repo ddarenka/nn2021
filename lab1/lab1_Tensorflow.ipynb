{
 "cells": [
  {
   "cell_type": "markdown",
   "metadata": {},
   "source": [
    "### Tensorflow"
   ]
  },
  {
   "cell_type": "code",
   "execution_count": 171,
   "metadata": {},
   "outputs": [],
   "source": [
    "import tensorflow as tf"
   ]
  },
  {
   "cell_type": "markdown",
   "metadata": {},
   "source": [
    "#### Create"
   ]
  },
  {
   "cell_type": "code",
   "execution_count": null,
   "metadata": {},
   "outputs": [],
   "source": [
    "random_tf = tf.random.normal(shape=(3, 4), seed=42) \n",
    "random_tf"
   ]
  },
  {
   "cell_type": "markdown",
   "metadata": {},
   "source": [
    "#### Read"
   ]
  },
  {
   "cell_type": "code",
   "execution_count": 178,
   "metadata": {},
   "outputs": [
    {
     "data": {
      "text/plain": [
       "<tf.Variable 'Variable:0' shape=(3, 4) dtype=float32, numpy=\n",
       "array([[-2.3159974 , -0.07912122, -0.8998717 ,  0.31664512],\n",
       "       [-1.1119006 ,  1.3949379 ,  0.4992896 , -1.461813  ],\n",
       "       [-0.7174765 , -0.4182692 , -2.1247718 ,  1.7517222 ]],\n",
       "      dtype=float32)>"
      ]
     },
     "execution_count": 178,
     "metadata": {},
     "output_type": "execute_result"
    }
   ],
   "source": [
    "tf_random_var = tf.Variable(tf_rand) \n",
    "tf_random_var"
   ]
  },
  {
   "cell_type": "markdown",
   "metadata": {},
   "source": [
    "#### Update"
   ]
  },
  {
   "cell_type": "code",
   "execution_count": 179,
   "metadata": {},
   "outputs": [
    {
     "data": {
      "text/plain": [
       "<tf.Variable 'Variable:0' shape=(3, 4) dtype=float32, numpy=\n",
       "array([[ 1.0000000e+03, -7.9121225e-02, -8.9987171e-01,  3.1664512e-01],\n",
       "       [-1.1119006e+00,  1.3949379e+00,  4.9928960e-01, -1.4618130e+00],\n",
       "       [-7.1747649e-01, -4.1826919e-01, -2.1247718e+00,  1.7517222e+00]],\n",
       "      dtype=float32)>"
      ]
     },
     "execution_count": 179,
     "metadata": {},
     "output_type": "execute_result"
    }
   ],
   "source": [
    "tf_random_var[0, 0].assign(1000) \n",
    "tf_random_var "
   ]
  },
  {
   "cell_type": "markdown",
   "metadata": {},
   "source": [
    "#### Delete"
   ]
  },
  {
   "cell_type": "code",
   "execution_count": 184,
   "metadata": {},
   "outputs": [
    {
     "data": {
      "text/plain": [
       "<tf.Tensor: shape=(2, 2), dtype=float32, numpy=\n",
       "array([[1., 3.],\n",
       "       [4., 6.]], dtype=float32)>"
      ]
     },
     "execution_count": 184,
     "metadata": {},
     "output_type": "execute_result"
    }
   ],
   "source": [
    "num = tf.constant([1.0, 2.0, 3.0, 4.0, 5.0, 6.0], shape=(2, 3)) \n",
    "vectors = tf.unstack(num, axis=1) \n",
    "del vectors[1] \n",
    "num_new = tf.stack(vectors, 1) \n",
    "num_new "
   ]
  },
  {
   "cell_type": "markdown",
   "metadata": {},
   "source": [
    "#### To numpy"
   ]
  },
  {
   "cell_type": "code",
   "execution_count": 180,
   "metadata": {
    "scrolled": false
   },
   "outputs": [
    {
     "data": {
      "text/plain": [
       "array([[ 1.0000000e+03, -7.9121225e-02, -8.9987171e-01,  3.1664512e-01],\n",
       "       [-1.1119006e+00,  1.3949379e+00,  4.9928960e-01, -1.4618130e+00],\n",
       "       [-7.1747649e-01, -4.1826919e-01, -2.1247718e+00,  1.7517222e+00]],\n",
       "      dtype=float32)"
      ]
     },
     "execution_count": 180,
     "metadata": {},
     "output_type": "execute_result"
    }
   ],
   "source": [
    "tf_random_var.numpy() "
   ]
  },
  {
   "cell_type": "markdown",
   "metadata": {},
   "source": [
    "#### Reshape"
   ]
  },
  {
   "cell_type": "code",
   "execution_count": 181,
   "metadata": {},
   "outputs": [
    {
     "data": {
      "text/plain": [
       "<tf.Tensor: shape=(6, 2), dtype=float32, numpy=\n",
       "array([[ 1.0000000e+03, -7.9121225e-02],\n",
       "       [-8.9987171e-01,  3.1664512e-01],\n",
       "       [-1.1119006e+00,  1.3949379e+00],\n",
       "       [ 4.9928960e-01, -1.4618130e+00],\n",
       "       [-7.1747649e-01, -4.1826919e-01],\n",
       "       [-2.1247718e+00,  1.7517222e+00]], dtype=float32)>"
      ]
     },
     "execution_count": 181,
     "metadata": {},
     "output_type": "execute_result"
    }
   ],
   "source": [
    "\n",
    "tf_rand_var_reshaped = tf.reshape(tf_rand_var, (6, 2))\n",
    "tf_rand_var_reshaped"
   ]
  }
 ],
 "metadata": {
  "kernelspec": {
   "display_name": "Python 3",
   "language": "python",
   "name": "python3"
  },
  "language_info": {
   "codemirror_mode": {
    "name": "ipython",
    "version": 3
   },
   "file_extension": ".py",
   "mimetype": "text/x-python",
   "name": "python",
   "nbconvert_exporter": "python",
   "pygments_lexer": "ipython3",
   "version": "3.8.5"
  }
 },
 "nbformat": 4,
 "nbformat_minor": 2
}
